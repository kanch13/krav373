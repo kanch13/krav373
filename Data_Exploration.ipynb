{
 "cells": [
  {
   "cell_type": "code",
   "execution_count": 27,
   "id": "8338ba30",
   "metadata": {},
   "outputs": [],
   "source": [
    "# Must be included at the beginning of each new notebook. Remember to change the app name.\n",
    "import findspark\n",
    "findspark.init('/home/ubuntu/spark-3.2.1-bin-hadoop2.7')\n",
    "import pyspark\n",
    "import pandas as pd\n",
    "from pyspark.sql import SparkSession\n",
    "spark = SparkSession.builder.appName('ASD_Diagnosis').getOrCreate()"
   ]
  },
  {
   "cell_type": "code",
   "execution_count": 7,
   "id": "72c02fab",
   "metadata": {},
   "outputs": [],
   "source": [
    "# Let's read in the data. Note that it's in the format of csv.\n",
    "df = spark.read.csv('ASDdata1.csv',header=True, inferSchema=True)"
   ]
  },
  {
   "cell_type": "code",
   "execution_count": 6,
   "id": "3c811e2c",
   "metadata": {},
   "outputs": [
    {
     "name": "stderr",
     "output_type": "stream",
     "text": [
      "24/05/19 03:37:31 WARN package: Truncated the string representation of a plan since it was too large. This behavior can be adjusted by setting 'spark.sql.debug.maxToStringFields'.\n"
     ]
    },
    {
     "name": "stdout",
     "output_type": "stream",
     "text": [
      "+-------+---+---+---+---+---+---+---+---+---+----+--------------------+----------+--------------+--------------------+-----------------+-----------------+----------+--------------------+--------------------+--------------------+----------------+----+--------------+--------+-------------------+--------------------+----------+\n",
      "|    _c0|_c1|_c2|_c3|_c4|_c5|_c6|_c7|_c8|_c9|_c10|                _c11|      _c12|          _c13|                _c14|             _c15|             _c16|      _c17|                _c18|                _c19|                _c20|            _c21|_c22|          _c23|    _c24|               _c25|                _c26|      _c27|\n",
      "+-------+---+---+---+---+---+---+---+---+---+----+--------------------+----------+--------------+--------------------+-----------------+-----------------+----------+--------------------+--------------------+--------------------+----------------+----+--------------+--------+-------------------+--------------------+----------+\n",
      "|CASE_NO| A1| A2| A3| A4| A5| A6| A7| A8| A9| A10|Social_Responsive...|Age_Months|Qchat_10_Score|Speech Delay/Lang...|Learning disorder|Genetic_Disorders|Depression|Global developmen...|Social/Behavioura...|Childhood Autism ...|Anxiety_disorder| Sex|     Ethnicity|Jaundice|Family_mem_with_ASD|Who_completed_the...|ASD_traits|\n",
      "|      1|  0|  0|  0|  0|  0|  0|  1|  1|  0|   1|                   3|        36|             3|                 Yes|              Yes|              Yes|       Yes|                 Yes|                 Yes|                   1|             Yes|   F|middle eastern|     Yes|                 No|       Family Member|        No|\n",
      "|      2|  1|  1|  0|  0|  0|  1|  1|  0|  0|   0|                   6|        36|             4|                 Yes|              Yes|              Yes|       Yes|                 Yes|                 Yes|                   2|             Yes|   M|White European|     Yes|                 No|       Family Member|       Yes|\n",
      "|      3|  1|  0|  0|  0|  0|  0|  1|  1|  0|   1|                   7|        24|             4|                 Yes|              Yes|              Yes|       Yes|                 Yes|                 Yes|                   4|             Yes|   M|Middle Eastern|     Yes|                 No|       Family Member|       Yes|\n",
      "|      4|  1|  1|  1|  1|  1|  1|  1|  1|  1|   1|                   1|        20|            10|                 Yes|              Yes|               No|       Yes|                 Yes|                 Yes|                   2|             Yes|   M|      Hispanic|      No|                 No|       Family Member|       Yes|\n",
      "|      5|  1|  1|  0|  1|  1|  1|  1|  1|  1|   1|                   3|        21|             9|                 Yes|              Yes|               No|       Yes|                 Yes|                 Yes|                   1|             Yes|   F|White European|      No|                 No|       Family Member|       Yes|\n",
      "|      6|  1|  1|  0|  0|  1|  1|  1|  1|  1|   1|                   3|        33|             8|                 Yes|              Yes|               No|       Yes|                 Yes|                 Yes|                   2|             Yes|   M|         Black|      No|                 No|       Family Member|       Yes|\n",
      "|      7|  1|  0|  0|  1|  1|  1|  0|  0|  1|   0|                   3|        33|             5|                 Yes|              Yes|              Yes|       Yes|                 Yes|                 Yes|                   4|             Yes|   M|         Asian|     Yes|                 No|       Family Member|       Yes|\n",
      "|      8|  0|  1|  0|  0|  1|  0|  1|  1|  1|   1|                   3|        36|             6|                 Yes|              Yes|              Yes|       Yes|                 Yes|                 Yes|                   2|             Yes|   M|         Asian|     Yes|                 No|       Family Member|       Yes|\n",
      "|      9|  0|  0|  0|  0|  0|  0|  1|  0|  0|   1|                   5|        22|             2|                 Yes|              Yes|               No|       Yes|                 Yes|                 Yes|                   2|             Yes|   M|         Asian|      No|                 No|       Family Member|        No|\n",
      "|     10|  1|  1|  1|  0|  1|  1|  0|  1|  1|   1|                   6|        36|             8|                 Yes|              Yes|               No|       Yes|                 Yes|                 Yes|                   1|             Yes|   M|   South Asian|      No|                 No|Health Care Profe...|       Yes|\n",
      "|     11|  1|  0|  0|  1|  0|  1|  1|  0|  1|   1|                   2|        17|             6|                 Yes|              Yes|              Yes|       Yes|                 Yes|                 Yes|                   4|             Yes|   M|      Hispanic|     Yes|                Yes|       Family Member|       Yes|\n",
      "|     12|  1|  1|  1|  1|  0|  1|  1|  1|  0|   1|                   5|        25|             8|                 Yes|              Yes|              Yes|       Yes|                 Yes|                 Yes|                   2|             Yes|   M|Middle Eastern|     Yes|                 No|       Family Member|       Yes|\n",
      "|     13|  0|  0|  0|  0|  0|  0|  0|  0|  0|   0|                   3|        15|             4|                 Yes|              Yes|              Yes|       Yes|                 Yes|                 Yes|                   1|             Yes|   F|Middle Eastern|     Yes|                 No|       Family Member|        No|\n",
      "|     14|  1|  1|  1|  1|  0|  0|  1|  0|  1|   1|                   5|        18|             7|                 Yes|              Yes|              Yes|       Yes|                 Yes|                 Yes|                   2|             Yes|   F|middle eastern|     Yes|                 No|       Family Member|       Yes|\n",
      "|     15|  0|  0|  0|  0|  0|  0|  0|  0|  0|   0|                   1|        12|             6|                 Yes|              Yes|               No|       Yes|                 Yes|                 Yes|                   4|             Yes|   M|Middle Eastern|     Yes|                 No|       Family Member|        No|\n",
      "|     16|  1|  1|  1|  0|  1|  0|  1|  1|  0|   1|                   0|        36|             7|                 Yes|              Yes|               No|       Yes|                 Yes|                 Yes|                   2|             Yes|   M|         Black|     Yes|                 No|       Family Member|       Yes|\n",
      "|     17|  0|  0|  0|  0|  0|  0|  0|  0|  0|   0|                   7|        12|             7|                 Yes|              Yes|              Yes|       Yes|                 Yes|                 Yes|                   2|             Yes|   M|Middle Eastern|     Yes|                Yes|       Family Member|        No|\n",
      "|     18|  1|  1|  1|  0|  1|  1|  1|  1|  0|   1|                   2|        29|             8|                 Yes|              Yes|              Yes|       Yes|                 Yes|                 Yes|                   1|             Yes|   F|Middle Eastern|     Yes|                 No|       Family Member|       Yes|\n",
      "|     19|  1|  0|  0|  0|  1|  0|  0|  0|  0|   1|                   1|        12|             3|                 Yes|              Yes|              Yes|       Yes|                 Yes|                 Yes|                   4|             Yes|   F|Middle Eastern|     Yes|                 No|       Family Member|        No|\n",
      "+-------+---+---+---+---+---+---+---+---+---+----+--------------------+----------+--------------+--------------------+-----------------+-----------------+----------+--------------------+--------------------+--------------------+----------------+----+--------------+--------+-------------------+--------------------+----------+\n",
      "only showing top 20 rows\n",
      "\n"
     ]
    },
    {
     "data": {
      "text/plain": [
       "['_c0',\n",
       " '_c1',\n",
       " '_c2',\n",
       " '_c3',\n",
       " '_c4',\n",
       " '_c5',\n",
       " '_c6',\n",
       " '_c7',\n",
       " '_c8',\n",
       " '_c9',\n",
       " '_c10',\n",
       " '_c11',\n",
       " '_c12',\n",
       " '_c13',\n",
       " '_c14',\n",
       " '_c15',\n",
       " '_c16',\n",
       " '_c17',\n",
       " '_c18',\n",
       " '_c19',\n",
       " '_c20',\n",
       " '_c21',\n",
       " '_c22',\n",
       " '_c23',\n",
       " '_c24',\n",
       " '_c25',\n",
       " '_c26',\n",
       " '_c27']"
      ]
     },
     "execution_count": 6,
     "metadata": {},
     "output_type": "execute_result"
    }
   ],
   "source": [
    "# The show method allows you visualise DataFrames. We can see that there are two columns. \n",
    "df.show()\n",
    "\n",
    "# You could also try this. \n",
    "df.columns"
   ]
  },
  {
   "cell_type": "code",
   "execution_count": 8,
   "id": "194d6276",
   "metadata": {},
   "outputs": [
    {
     "data": {
      "text/plain": [
       "['CASE_NO',\n",
       " 'A1',\n",
       " 'A2',\n",
       " 'A3',\n",
       " 'A4',\n",
       " 'A5',\n",
       " 'A6',\n",
       " 'A7',\n",
       " 'A8',\n",
       " 'A9',\n",
       " 'A10',\n",
       " 'Social_Responsiveness_Scale',\n",
       " 'Age_Months',\n",
       " 'Qchat_10_Score',\n",
       " 'Speech Delay/Language Disorder',\n",
       " 'Learning disorder',\n",
       " 'Genetic_Disorders',\n",
       " 'Depression',\n",
       " 'Global developmental delay/intellectual disability',\n",
       " 'Social/Behavioural Issues',\n",
       " 'Childhood Autism Rating Scale',\n",
       " 'Anxiety_disorder',\n",
       " 'Sex',\n",
       " 'Ethnicity',\n",
       " 'Jaundice',\n",
       " 'Family_mem_with_ASD',\n",
       " 'Who_completed_the_test',\n",
       " 'ASD_traits']"
      ]
     },
     "execution_count": 8,
     "metadata": {},
     "output_type": "execute_result"
    }
   ],
   "source": [
    "df.columns"
   ]
  },
  {
   "cell_type": "code",
   "execution_count": 9,
   "id": "c7cbd936",
   "metadata": {},
   "outputs": [
    {
     "name": "stderr",
     "output_type": "stream",
     "text": [
      "                                                                                \r"
     ]
    },
    {
     "name": "stdout",
     "output_type": "stream",
     "text": [
      "+-------+-----------------+-------------------+------------------+------------------+-------------------+------------------+-------------------+-----------------+------------------+-----------------+-------------------+---------------------------+-----------------+------------------+------------------------------+-----------------+-----------------+----------+--------------------------------------------------+-------------------------+-----------------------------+----------------+----+-----------+--------+-------------------+----------------------+----------+\n",
      "|summary|          CASE_NO|                 A1|                A2|                A3|                 A4|                A5|                 A6|               A7|                A8|               A9|                A10|Social_Responsiveness_Scale|       Age_Months|    Qchat_10_Score|Speech Delay/Language Disorder|Learning disorder|Genetic_Disorders|Depression|Global developmental delay/intellectual disability|Social/Behavioural Issues|Childhood Autism Rating Scale|Anxiety_disorder| Sex|  Ethnicity|Jaundice|Family_mem_with_ASD|Who_completed_the_test|ASD_traits|\n",
      "+-------+-----------------+-------------------+------------------+------------------+-------------------+------------------+-------------------+-----------------+------------------+-----------------+-------------------+---------------------------+-----------------+------------------+------------------------------+-----------------+-----------------+----------+--------------------------------------------------+-------------------------+-----------------------------+----------------+----+-----------+--------+-------------------+----------------------+----------+\n",
      "|  count|             2000|               2000|              2000|              2000|               2000|              2000|               2000|             2000|              2000|             2000|               2000|                       1991|             2000|              1961|                          2000|             2000|             2000|      1999|                                              2000|                     1986|                         2000|            2000|2000|       2000|    2000|               2000|                  2000|      2000|\n",
      "|   mean|           1000.5|             0.3025|            0.2415|            0.2135|              0.274|            0.2795|              0.308|            0.347|            0.2445|           0.2615|             0.4465|         3.1099949773982924|27.86743371685843| 4.240693523712392|                          null|             null|             null|      null|                                              null|                     null|                        1.705|            null|null|       null|    null|               null|                  null|      null|\n",
      "| stddev|577.4945887192364|0.45945543815458895|0.4280997368515263|0.4098801664821533|0.44612051259259283|0.4488657819940419|0.46178200626557064|0.476134804625841|0.4298978437699344|0.439561551069459|0.49725383929170935|          3.695638547170374| 8.06783892950747|2.8997178484142405|                          null|             null|             null|      null|                                              null|                     null|           1.0156233284897944|            null|null|       null|    null|               null|                  null|      null|\n",
      "|    min|                1|                  0|                 0|                 0|                  0|                 0|                  0|                0|                 0|                0|                  0|                          0|                0|                 0|                            No|               No|               No|        No|                                                No|                       No|                            1|              No|   F|      Asian|      No|                 No|         Family Member|        No|\n",
      "|    max|             2000|                  1|                 1|                 1|                  1|                 1|                  1|                1|                 1|                1|                  1|                         10|                ?|                10|                           Yes|              Yes|              Yes|       Yes|                                               Yes|                      Yes|                            4|             Yes|   M|south asian|     Yes|                Yes|                  Self|       Yes|\n",
      "+-------+-----------------+-------------------+------------------+------------------+-------------------+------------------+-------------------+-----------------+------------------+-----------------+-------------------+---------------------------+-----------------+------------------+------------------------------+-----------------+-----------------+----------+--------------------------------------------------+-------------------------+-----------------------------+----------------+----+-----------+--------+-------------------+----------------------+----------+\n",
      "\n"
     ]
    }
   ],
   "source": [
    "df.describe().show()"
   ]
  },
  {
   "cell_type": "code",
   "execution_count": 10,
   "id": "a66bdb0c",
   "metadata": {},
   "outputs": [
    {
     "name": "stdout",
     "output_type": "stream",
     "text": [
      "+-------+---+---+---+---+---+---+---+---+---+---+---------------------------+----------+--------------+------------------------------+-----------------+-----------------+----------+--------------------------------------------------+-------------------------+-----------------------------+----------------+---+--------------+--------+-------------------+----------------------+----------+\n",
      "|CASE_NO| A1| A2| A3| A4| A5| A6| A7| A8| A9|A10|Social_Responsiveness_Scale|Age_Months|Qchat_10_Score|Speech Delay/Language Disorder|Learning disorder|Genetic_Disorders|Depression|Global developmental delay/intellectual disability|Social/Behavioural Issues|Childhood Autism Rating Scale|Anxiety_disorder|Sex|     Ethnicity|Jaundice|Family_mem_with_ASD|Who_completed_the_test|ASD_traits|\n",
      "+-------+---+---+---+---+---+---+---+---+---+---+---------------------------+----------+--------------+------------------------------+-----------------+-----------------+----------+--------------------------------------------------+-------------------------+-----------------------------+----------------+---+--------------+--------+-------------------+----------------------+----------+\n",
      "|      1|  0|  0|  0|  0|  0|  0|  1|  1|  0|  1|                          3|        36|             3|                           Yes|              Yes|              Yes|       Yes|                                               Yes|                      Yes|                            1|             Yes|  F|middle eastern|     Yes|                 No|         Family Member|        No|\n",
      "|      2|  1|  1|  0|  0|  0|  1|  1|  0|  0|  0|                          6|        36|             4|                           Yes|              Yes|              Yes|       Yes|                                               Yes|                      Yes|                            2|             Yes|  M|White European|     Yes|                 No|         Family Member|       Yes|\n",
      "|      3|  1|  0|  0|  0|  0|  0|  1|  1|  0|  1|                          7|        24|             4|                           Yes|              Yes|              Yes|       Yes|                                               Yes|                      Yes|                            4|             Yes|  M|Middle Eastern|     Yes|                 No|         Family Member|       Yes|\n",
      "|      4|  1|  1|  1|  1|  1|  1|  1|  1|  1|  1|                          1|        20|            10|                           Yes|              Yes|               No|       Yes|                                               Yes|                      Yes|                            2|             Yes|  M|      Hispanic|      No|                 No|         Family Member|       Yes|\n",
      "|      5|  1|  1|  0|  1|  1|  1|  1|  1|  1|  1|                          3|        21|             9|                           Yes|              Yes|               No|       Yes|                                               Yes|                      Yes|                            1|             Yes|  F|White European|      No|                 No|         Family Member|       Yes|\n",
      "|      6|  1|  1|  0|  0|  1|  1|  1|  1|  1|  1|                          3|        33|             8|                           Yes|              Yes|               No|       Yes|                                               Yes|                      Yes|                            2|             Yes|  M|         Black|      No|                 No|         Family Member|       Yes|\n",
      "|      7|  1|  0|  0|  1|  1|  1|  0|  0|  1|  0|                          3|        33|             5|                           Yes|              Yes|              Yes|       Yes|                                               Yes|                      Yes|                            4|             Yes|  M|         Asian|     Yes|                 No|         Family Member|       Yes|\n",
      "|      8|  0|  1|  0|  0|  1|  0|  1|  1|  1|  1|                          3|        36|             6|                           Yes|              Yes|              Yes|       Yes|                                               Yes|                      Yes|                            2|             Yes|  M|         Asian|     Yes|                 No|         Family Member|       Yes|\n",
      "|      9|  0|  0|  0|  0|  0|  0|  1|  0|  0|  1|                          5|        22|             2|                           Yes|              Yes|               No|       Yes|                                               Yes|                      Yes|                            2|             Yes|  M|         Asian|      No|                 No|         Family Member|        No|\n",
      "|     10|  1|  1|  1|  0|  1|  1|  0|  1|  1|  1|                          6|        36|             8|                           Yes|              Yes|               No|       Yes|                                               Yes|                      Yes|                            1|             Yes|  M|   South Asian|      No|                 No|  Health Care Profe...|       Yes|\n",
      "|     11|  1|  0|  0|  1|  0|  1|  1|  0|  1|  1|                          2|        17|             6|                           Yes|              Yes|              Yes|       Yes|                                               Yes|                      Yes|                            4|             Yes|  M|      Hispanic|     Yes|                Yes|         Family Member|       Yes|\n",
      "|     12|  1|  1|  1|  1|  0|  1|  1|  1|  0|  1|                          5|        25|             8|                           Yes|              Yes|              Yes|       Yes|                                               Yes|                      Yes|                            2|             Yes|  M|Middle Eastern|     Yes|                 No|         Family Member|       Yes|\n",
      "|     13|  0|  0|  0|  0|  0|  0|  0|  0|  0|  0|                          3|        15|             4|                           Yes|              Yes|              Yes|       Yes|                                               Yes|                      Yes|                            1|             Yes|  F|Middle Eastern|     Yes|                 No|         Family Member|        No|\n",
      "|     14|  1|  1|  1|  1|  0|  0|  1|  0|  1|  1|                          5|        18|             7|                           Yes|              Yes|              Yes|       Yes|                                               Yes|                      Yes|                            2|             Yes|  F|middle eastern|     Yes|                 No|         Family Member|       Yes|\n",
      "|     15|  0|  0|  0|  0|  0|  0|  0|  0|  0|  0|                          1|        12|             6|                           Yes|              Yes|               No|       Yes|                                               Yes|                      Yes|                            4|             Yes|  M|Middle Eastern|     Yes|                 No|         Family Member|        No|\n",
      "|     16|  1|  1|  1|  0|  1|  0|  1|  1|  0|  1|                          0|        36|             7|                           Yes|              Yes|               No|       Yes|                                               Yes|                      Yes|                            2|             Yes|  M|         Black|     Yes|                 No|         Family Member|       Yes|\n",
      "|     17|  0|  0|  0|  0|  0|  0|  0|  0|  0|  0|                          7|        12|             7|                           Yes|              Yes|              Yes|       Yes|                                               Yes|                      Yes|                            2|             Yes|  M|Middle Eastern|     Yes|                Yes|         Family Member|        No|\n",
      "|     18|  1|  1|  1|  0|  1|  1|  1|  1|  0|  1|                          2|        29|             8|                           Yes|              Yes|              Yes|       Yes|                                               Yes|                      Yes|                            1|             Yes|  F|Middle Eastern|     Yes|                 No|         Family Member|       Yes|\n",
      "|     19|  1|  0|  0|  0|  1|  0|  0|  0|  0|  1|                          1|        12|             3|                           Yes|              Yes|              Yes|       Yes|                                               Yes|                      Yes|                            4|             Yes|  F|Middle Eastern|     Yes|                 No|         Family Member|        No|\n",
      "|     20|  1|  1|  1|  0|  1|  0|  1|  1|  0|  1|                          3|        36|             7|                           Yes|              Yes|              Yes|       Yes|                                               Yes|                      Yes|                            2|             Yes|  M|         Black|     Yes|                 No|         Family Member|       Yes|\n",
      "+-------+---+---+---+---+---+---+---+---+---+---+---------------------------+----------+--------------+------------------------------+-----------------+-----------------+----------+--------------------------------------------------+-------------------------+-----------------------------+----------------+---+--------------+--------+-------------------+----------------------+----------+\n",
      "only showing top 20 rows\n",
      "\n",
      "root\n",
      " |-- CASE_NO: integer (nullable = true)\n",
      " |-- A1: integer (nullable = true)\n",
      " |-- A2: integer (nullable = true)\n",
      " |-- A3: integer (nullable = true)\n",
      " |-- A4: integer (nullable = true)\n",
      " |-- A5: integer (nullable = true)\n",
      " |-- A6: integer (nullable = true)\n",
      " |-- A7: integer (nullable = true)\n",
      " |-- A8: integer (nullable = true)\n",
      " |-- A9: integer (nullable = true)\n",
      " |-- A10: integer (nullable = true)\n",
      " |-- Social_Responsiveness_Scale: integer (nullable = true)\n",
      " |-- Age_Months: string (nullable = true)\n",
      " |-- Qchat_10_Score: integer (nullable = true)\n",
      " |-- Speech Delay/Language Disorder: string (nullable = true)\n",
      " |-- Learning disorder: string (nullable = true)\n",
      " |-- Genetic_Disorders: string (nullable = true)\n",
      " |-- Depression: string (nullable = true)\n",
      " |-- Global developmental delay/intellectual disability: string (nullable = true)\n",
      " |-- Social/Behavioural Issues: string (nullable = true)\n",
      " |-- Childhood Autism Rating Scale: integer (nullable = true)\n",
      " |-- Anxiety_disorder: string (nullable = true)\n",
      " |-- Sex: string (nullable = true)\n",
      " |-- Ethnicity: string (nullable = true)\n",
      " |-- Jaundice: string (nullable = true)\n",
      " |-- Family_mem_with_ASD: string (nullable = true)\n",
      " |-- Who_completed_the_test: string (nullable = true)\n",
      " |-- ASD_traits: string (nullable = true)\n",
      "\n"
     ]
    }
   ],
   "source": [
    "# Show the DataFrame\n",
    "df.show()\n",
    "df.printSchema()"
   ]
  },
  {
   "cell_type": "code",
   "execution_count": 12,
   "id": "9a238802",
   "metadata": {},
   "outputs": [
    {
     "data": {
      "text/plain": [
       "Row(CASE_NO=1, A1=0, A2=0, A3=0, A4=0, A5=0, A6=0, A7=1, A8=1, A9=0, A10=1, Social_Responsiveness_Scale=3, Age_Months='36', Qchat_10_Score=3, Speech Delay/Language Disorder='Yes', Learning disorder='Yes', Genetic_Disorders='Yes', Depression='Yes', Global developmental delay/intellectual disability='Yes', Social/Behavioural Issues='Yes', Childhood Autism Rating Scale=1, Anxiety_disorder='Yes', Sex='F', Ethnicity='middle eastern', Jaundice='Yes', Family_mem_with_ASD='No', Who_completed_the_test='Family Member', ASD_traits='No')"
      ]
     },
     "execution_count": 12,
     "metadata": {},
     "output_type": "execute_result"
    }
   ],
   "source": [
    "df.head()\n"
   ]
  },
  {
   "cell_type": "code",
   "execution_count": 14,
   "id": "225de9c4",
   "metadata": {},
   "outputs": [
    {
     "data": {
      "text/plain": [
       "[('CASE_NO', 'int'),\n",
       " ('A1', 'int'),\n",
       " ('A2', 'int'),\n",
       " ('A3', 'int'),\n",
       " ('A4', 'int'),\n",
       " ('A5', 'int'),\n",
       " ('A6', 'int'),\n",
       " ('A7', 'int'),\n",
       " ('A8', 'int'),\n",
       " ('A9', 'int'),\n",
       " ('A10', 'int'),\n",
       " ('Social_Responsiveness_Scale', 'int'),\n",
       " ('Age_Months', 'string'),\n",
       " ('Qchat_10_Score', 'int'),\n",
       " ('Speech Delay/Language Disorder', 'string'),\n",
       " ('Learning disorder', 'string'),\n",
       " ('Genetic_Disorders', 'string'),\n",
       " ('Depression', 'string'),\n",
       " ('Global developmental delay/intellectual disability', 'string'),\n",
       " ('Social/Behavioural Issues', 'string'),\n",
       " ('Childhood Autism Rating Scale', 'int'),\n",
       " ('Anxiety_disorder', 'string'),\n",
       " ('Sex', 'string'),\n",
       " ('Ethnicity', 'string'),\n",
       " ('Jaundice', 'string'),\n",
       " ('Family_mem_with_ASD', 'string'),\n",
       " ('Who_completed_the_test', 'string'),\n",
       " ('ASD_traits', 'string')]"
      ]
     },
     "execution_count": 14,
     "metadata": {},
     "output_type": "execute_result"
    }
   ],
   "source": [
    "\n",
    "df.dtypes\n",
    "\n"
   ]
  },
  {
   "cell_type": "code",
   "execution_count": 16,
   "id": "d4682edb",
   "metadata": {},
   "outputs": [
    {
     "data": {
      "text/plain": [
       "<bound method DataFrame.describe of DataFrame[CASE_NO: int, A1: int, A2: int, A3: int, A4: int, A5: int, A6: int, A7: int, A8: int, A9: int, A10: int, Social_Responsiveness_Scale: int, Age_Months: string, Qchat_10_Score: int, Speech Delay/Language Disorder: string, Learning disorder: string, Genetic_Disorders: string, Depression: string, Global developmental delay/intellectual disability: string, Social/Behavioural Issues: string, Childhood Autism Rating Scale: int, Anxiety_disorder: string, Sex: string, Ethnicity: string, Jaundice: string, Family_mem_with_ASD: string, Who_completed_the_test: string, ASD_traits: string]>"
      ]
     },
     "execution_count": 16,
     "metadata": {},
     "output_type": "execute_result"
    }
   ],
   "source": [
    "df.describe\n"
   ]
  },
  {
   "cell_type": "code",
   "execution_count": 17,
   "id": "f0af04c1",
   "metadata": {},
   "outputs": [
    {
     "ename": "TypeError",
     "evalue": "'Column' object is not callable",
     "output_type": "error",
     "traceback": [
      "\u001b[0;31m---------------------------------------------------------------------------\u001b[0m",
      "\u001b[0;31mTypeError\u001b[0m                                 Traceback (most recent call last)",
      "Input \u001b[0;32mIn [17]\u001b[0m, in \u001b[0;36m<cell line: 1>\u001b[0;34m()\u001b[0m\n\u001b[0;32m----> 1\u001b[0m \u001b[43mdf\u001b[49m\u001b[43m[\u001b[49m\u001b[38;5;124;43m'\u001b[39;49m\u001b[38;5;124;43mAge_Months\u001b[39;49m\u001b[38;5;124;43m'\u001b[39;49m\u001b[43m]\u001b[49m\u001b[38;5;241;43m.\u001b[39;49m\u001b[43mdescribe\u001b[49m\u001b[43m(\u001b[49m\u001b[43m)\u001b[49m\n",
      "\u001b[0;31mTypeError\u001b[0m: 'Column' object is not callable"
     ]
    }
   ],
   "source": [
    "\n"
   ]
  },
  {
   "cell_type": "code",
   "execution_count": 18,
   "id": "2eeab73f",
   "metadata": {},
   "outputs": [],
   "source": [
    "import matplotlib.pyplot as plt\n",
    "import seaborn as sns"
   ]
  },
  {
   "cell_type": "code",
   "execution_count": 28,
   "id": "e2726433",
   "metadata": {},
   "outputs": [
    {
     "name": "stdout",
     "output_type": "stream",
     "text": [
      "      CASE_NO  A1  A2  A3  A4  A5  A6  A7  A8  A9  ...  \\\n",
      "0           1   0   0   0   0   0   0   1   1   0  ...   \n",
      "1           2   1   1   0   0   0   1   1   0   0  ...   \n",
      "2           3   1   0   0   0   0   0   1   1   0  ...   \n",
      "3           4   1   1   1   1   1   1   1   1   1  ...   \n",
      "4           5   1   1   0   1   1   1   1   1   1  ...   \n",
      "...       ...  ..  ..  ..  ..  ..  ..  ..  ..  ..  ...   \n",
      "1995     1996   1   1   0   1   0   0   0   0   0  ...   \n",
      "1996     1997   1   1   0   0   0   0   0   0   0  ...   \n",
      "1997     1998   1   1   0   0   1   1   0   1   1  ...   \n",
      "1998     1999   1   1   1   1   1   1   1   1   1  ...   \n",
      "1999     2000   1   1   0   0   0   1   1   1   0  ...   \n",
      "\n",
      "      Global developmental delay/intellectual disability  \\\n",
      "0                                                   Yes    \n",
      "1                                                   Yes    \n",
      "2                                                   Yes    \n",
      "3                                                   Yes    \n",
      "4                                                   Yes    \n",
      "...                                                 ...    \n",
      "1995                                                Yes    \n",
      "1996                                                Yes    \n",
      "1997                                                Yes    \n",
      "1998                                                Yes    \n",
      "1999                                                Yes    \n",
      "\n",
      "      Social/Behavioural Issues Childhood Autism Rating Scale  \\\n",
      "0                           Yes                             1   \n",
      "1                           Yes                             2   \n",
      "2                           Yes                             4   \n",
      "3                           Yes                             2   \n",
      "4                           Yes                             1   \n",
      "...                         ...                           ...   \n",
      "1995                        Yes                             3   \n",
      "1996                        Yes                             4   \n",
      "1997                        Yes                             2   \n",
      "1998                        Yes                             2   \n",
      "1999                        Yes                             1   \n",
      "\n",
      "      Anxiety_disorder Sex       Ethnicity Jaundice Family_mem_with_ASD  \\\n",
      "0                  Yes   F  middle eastern      Yes                  No   \n",
      "1                  Yes   M  White European      Yes                  No   \n",
      "2                  Yes   M  Middle Eastern      Yes                  No   \n",
      "3                  Yes   M        Hispanic       No                  No   \n",
      "4                  Yes   F  White European       No                  No   \n",
      "...                ...  ..             ...      ...                 ...   \n",
      "1995               Yes   M  Middle Eastern      Yes                  No   \n",
      "1996               Yes   M  Middle Eastern      Yes                  No   \n",
      "1997               Yes   M  White European      Yes                  No   \n",
      "1998               Yes   M        PaciFica      Yes                  No   \n",
      "1999               Yes   M  White European      Yes                 Yes   \n",
      "\n",
      "        Who_completed_the_test ASD_traits  \n",
      "0                Family Member         No  \n",
      "1                Family Member        Yes  \n",
      "2                Family Member        Yes  \n",
      "3                Family Member        Yes  \n",
      "4                Family Member        Yes  \n",
      "...                        ...        ...  \n",
      "1995  Health Care Professional         No  \n",
      "1996  Health Care Professional         No  \n",
      "1997  Health Care Professional        Yes  \n",
      "1998  Health Care Professional        Yes  \n",
      "1999  Health Care Professional        Yes  \n",
      "\n",
      "[2000 rows x 28 columns]\n"
     ]
    },
    {
     "data": {
      "text/html": [
       "<div>\n",
       "<style scoped>\n",
       "    .dataframe tbody tr th:only-of-type {\n",
       "        vertical-align: middle;\n",
       "    }\n",
       "\n",
       "    .dataframe tbody tr th {\n",
       "        vertical-align: top;\n",
       "    }\n",
       "\n",
       "    .dataframe thead th {\n",
       "        text-align: right;\n",
       "    }\n",
       "</style>\n",
       "<table border=\"1\" class=\"dataframe\">\n",
       "  <thead>\n",
       "    <tr style=\"text-align: right;\">\n",
       "      <th></th>\n",
       "      <th>CASE_NO</th>\n",
       "      <th>A1</th>\n",
       "      <th>A2</th>\n",
       "      <th>A3</th>\n",
       "      <th>A4</th>\n",
       "      <th>A5</th>\n",
       "      <th>A6</th>\n",
       "      <th>A7</th>\n",
       "      <th>A8</th>\n",
       "      <th>A9</th>\n",
       "      <th>...</th>\n",
       "      <th>Global developmental delay/intellectual disability</th>\n",
       "      <th>Social/Behavioural Issues</th>\n",
       "      <th>Childhood Autism Rating Scale</th>\n",
       "      <th>Anxiety_disorder</th>\n",
       "      <th>Sex</th>\n",
       "      <th>Ethnicity</th>\n",
       "      <th>Jaundice</th>\n",
       "      <th>Family_mem_with_ASD</th>\n",
       "      <th>Who_completed_the_test</th>\n",
       "      <th>ASD_traits</th>\n",
       "    </tr>\n",
       "  </thead>\n",
       "  <tbody>\n",
       "    <tr>\n",
       "      <th>0</th>\n",
       "      <td>1</td>\n",
       "      <td>0</td>\n",
       "      <td>0</td>\n",
       "      <td>0</td>\n",
       "      <td>0</td>\n",
       "      <td>0</td>\n",
       "      <td>0</td>\n",
       "      <td>1</td>\n",
       "      <td>1</td>\n",
       "      <td>0</td>\n",
       "      <td>...</td>\n",
       "      <td>Yes</td>\n",
       "      <td>Yes</td>\n",
       "      <td>1</td>\n",
       "      <td>Yes</td>\n",
       "      <td>F</td>\n",
       "      <td>middle eastern</td>\n",
       "      <td>Yes</td>\n",
       "      <td>No</td>\n",
       "      <td>Family Member</td>\n",
       "      <td>No</td>\n",
       "    </tr>\n",
       "    <tr>\n",
       "      <th>1</th>\n",
       "      <td>2</td>\n",
       "      <td>1</td>\n",
       "      <td>1</td>\n",
       "      <td>0</td>\n",
       "      <td>0</td>\n",
       "      <td>0</td>\n",
       "      <td>1</td>\n",
       "      <td>1</td>\n",
       "      <td>0</td>\n",
       "      <td>0</td>\n",
       "      <td>...</td>\n",
       "      <td>Yes</td>\n",
       "      <td>Yes</td>\n",
       "      <td>2</td>\n",
       "      <td>Yes</td>\n",
       "      <td>M</td>\n",
       "      <td>White European</td>\n",
       "      <td>Yes</td>\n",
       "      <td>No</td>\n",
       "      <td>Family Member</td>\n",
       "      <td>Yes</td>\n",
       "    </tr>\n",
       "    <tr>\n",
       "      <th>2</th>\n",
       "      <td>3</td>\n",
       "      <td>1</td>\n",
       "      <td>0</td>\n",
       "      <td>0</td>\n",
       "      <td>0</td>\n",
       "      <td>0</td>\n",
       "      <td>0</td>\n",
       "      <td>1</td>\n",
       "      <td>1</td>\n",
       "      <td>0</td>\n",
       "      <td>...</td>\n",
       "      <td>Yes</td>\n",
       "      <td>Yes</td>\n",
       "      <td>4</td>\n",
       "      <td>Yes</td>\n",
       "      <td>M</td>\n",
       "      <td>Middle Eastern</td>\n",
       "      <td>Yes</td>\n",
       "      <td>No</td>\n",
       "      <td>Family Member</td>\n",
       "      <td>Yes</td>\n",
       "    </tr>\n",
       "    <tr>\n",
       "      <th>3</th>\n",
       "      <td>4</td>\n",
       "      <td>1</td>\n",
       "      <td>1</td>\n",
       "      <td>1</td>\n",
       "      <td>1</td>\n",
       "      <td>1</td>\n",
       "      <td>1</td>\n",
       "      <td>1</td>\n",
       "      <td>1</td>\n",
       "      <td>1</td>\n",
       "      <td>...</td>\n",
       "      <td>Yes</td>\n",
       "      <td>Yes</td>\n",
       "      <td>2</td>\n",
       "      <td>Yes</td>\n",
       "      <td>M</td>\n",
       "      <td>Hispanic</td>\n",
       "      <td>No</td>\n",
       "      <td>No</td>\n",
       "      <td>Family Member</td>\n",
       "      <td>Yes</td>\n",
       "    </tr>\n",
       "    <tr>\n",
       "      <th>4</th>\n",
       "      <td>5</td>\n",
       "      <td>1</td>\n",
       "      <td>1</td>\n",
       "      <td>0</td>\n",
       "      <td>1</td>\n",
       "      <td>1</td>\n",
       "      <td>1</td>\n",
       "      <td>1</td>\n",
       "      <td>1</td>\n",
       "      <td>1</td>\n",
       "      <td>...</td>\n",
       "      <td>Yes</td>\n",
       "      <td>Yes</td>\n",
       "      <td>1</td>\n",
       "      <td>Yes</td>\n",
       "      <td>F</td>\n",
       "      <td>White European</td>\n",
       "      <td>No</td>\n",
       "      <td>No</td>\n",
       "      <td>Family Member</td>\n",
       "      <td>Yes</td>\n",
       "    </tr>\n",
       "  </tbody>\n",
       "</table>\n",
       "<p>5 rows × 28 columns</p>\n",
       "</div>"
      ],
      "text/plain": [
       "   CASE_NO  A1  A2  A3  A4  A5  A6  A7  A8  A9  ...  \\\n",
       "0        1   0   0   0   0   0   0   1   1   0  ...   \n",
       "1        2   1   1   0   0   0   1   1   0   0  ...   \n",
       "2        3   1   0   0   0   0   0   1   1   0  ...   \n",
       "3        4   1   1   1   1   1   1   1   1   1  ...   \n",
       "4        5   1   1   0   1   1   1   1   1   1  ...   \n",
       "\n",
       "   Global developmental delay/intellectual disability  \\\n",
       "0                                                Yes    \n",
       "1                                                Yes    \n",
       "2                                                Yes    \n",
       "3                                                Yes    \n",
       "4                                                Yes    \n",
       "\n",
       "   Social/Behavioural Issues Childhood Autism Rating Scale  Anxiety_disorder  \\\n",
       "0                        Yes                             1               Yes   \n",
       "1                        Yes                             2               Yes   \n",
       "2                        Yes                             4               Yes   \n",
       "3                        Yes                             2               Yes   \n",
       "4                        Yes                             1               Yes   \n",
       "\n",
       "  Sex       Ethnicity Jaundice Family_mem_with_ASD Who_completed_the_test  \\\n",
       "0   F  middle eastern      Yes                  No          Family Member   \n",
       "1   M  White European      Yes                  No          Family Member   \n",
       "2   M  Middle Eastern      Yes                  No          Family Member   \n",
       "3   M        Hispanic       No                  No          Family Member   \n",
       "4   F  White European       No                  No          Family Member   \n",
       "\n",
       "  ASD_traits  \n",
       "0         No  \n",
       "1        Yes  \n",
       "2        Yes  \n",
       "3        Yes  \n",
       "4        Yes  \n",
       "\n",
       "[5 rows x 28 columns]"
      ]
     },
     "execution_count": 28,
     "metadata": {},
     "output_type": "execute_result"
    }
   ],
   "source": [
    "df = pd.read_csv('ASDdata1.csv')\n",
    "print(df)\n",
    "df.head()\n",
    "\n"
   ]
  },
  {
   "cell_type": "code",
   "execution_count": 29,
   "id": "3073d3a0",
   "metadata": {},
   "outputs": [
    {
     "data": {
      "text/plain": [
       "(2000, 28)"
      ]
     },
     "execution_count": 29,
     "metadata": {},
     "output_type": "execute_result"
    }
   ],
   "source": [
    "df.shape\n"
   ]
  },
  {
   "cell_type": "code",
   "execution_count": 30,
   "id": "b1caa154",
   "metadata": {},
   "outputs": [
    {
     "data": {
      "text/plain": [
       "Index(['CASE_NO', 'A1', 'A2', 'A3', 'A4', 'A5', 'A6', 'A7', 'A8', 'A9', 'A10',\n",
       "       'Social_Responsiveness_Scale', 'Age_Months', 'Qchat_10_Score',\n",
       "       'Speech Delay/Language Disorder', 'Learning disorder',\n",
       "       'Genetic_Disorders', 'Depression',\n",
       "       'Global developmental delay/intellectual disability',\n",
       "       'Social/Behavioural Issues', 'Childhood Autism Rating Scale',\n",
       "       'Anxiety_disorder', 'Sex', 'Ethnicity', 'Jaundice',\n",
       "       'Family_mem_with_ASD', 'Who_completed_the_test', 'ASD_traits'],\n",
       "      dtype='object')"
      ]
     },
     "execution_count": 30,
     "metadata": {},
     "output_type": "execute_result"
    }
   ],
   "source": [
    "df.columns\n"
   ]
  },
  {
   "cell_type": "code",
   "execution_count": 31,
   "id": "16cad29f",
   "metadata": {},
   "outputs": [
    {
     "data": {
      "text/plain": [
       "36    599\n",
       "12    132\n",
       "30    125\n",
       "24    120\n",
       "33     83\n",
       "28     75\n",
       "26     69\n",
       "34     65\n",
       "32     62\n",
       "15     58\n",
       "23     56\n",
       "35     55\n",
       "22     54\n",
       "31     54\n",
       "25     50\n",
       "20     45\n",
       "27     45\n",
       "29     43\n",
       "19     40\n",
       "13     38\n",
       "18     33\n",
       "14     28\n",
       "17     25\n",
       "21     24\n",
       "16     17\n",
       "?       1\n",
       "0       1\n",
       "1       1\n",
       "40      1\n",
       "63      1\n",
       "Name: Age_Months, dtype: int64"
      ]
     },
     "execution_count": 31,
     "metadata": {},
     "output_type": "execute_result"
    }
   ],
   "source": [
    "df.dtypes\n",
    "df.describe\n",
    "df['Age_Months'].describe()\n",
    "df['Age_Months'].value_counts()"
   ]
  },
  {
   "cell_type": "code",
   "execution_count": 32,
   "id": "2c9e304a",
   "metadata": {},
   "outputs": [
    {
     "data": {
      "text/plain": [
       "CASE_NO                                                 int64\n",
       "A1                                                      int64\n",
       "A2                                                      int64\n",
       "A3                                                      int64\n",
       "A4                                                      int64\n",
       "A5                                                      int64\n",
       "A6                                                      int64\n",
       "A7                                                      int64\n",
       "A8                                                      int64\n",
       "A9                                                      int64\n",
       "A10                                                     int64\n",
       "Social_Responsiveness_Scale                           float64\n",
       "Age_Months                                             object\n",
       "Qchat_10_Score                                        float64\n",
       "Speech Delay/Language Disorder                         object\n",
       "Learning disorder                                      object\n",
       "Genetic_Disorders                                      object\n",
       "Depression                                             object\n",
       "Global developmental delay/intellectual disability     object\n",
       "Social/Behavioural Issues                              object\n",
       "Childhood Autism Rating Scale                           int64\n",
       "Anxiety_disorder                                       object\n",
       "Sex                                                    object\n",
       "Ethnicity                                              object\n",
       "Jaundice                                               object\n",
       "Family_mem_with_ASD                                    object\n",
       "Who_completed_the_test                                 object\n",
       "ASD_traits                                             object\n",
       "dtype: object"
      ]
     },
     "execution_count": 32,
     "metadata": {},
     "output_type": "execute_result"
    }
   ],
   "source": [
    "df.dtypes\n"
   ]
  },
  {
   "cell_type": "code",
   "execution_count": 33,
   "id": "17dac23e",
   "metadata": {},
   "outputs": [
    {
     "data": {
      "text/plain": [
       "<bound method NDFrame.describe of       CASE_NO  A1  A2  A3  A4  A5  A6  A7  A8  A9  ...  \\\n",
       "0           1   0   0   0   0   0   0   1   1   0  ...   \n",
       "1           2   1   1   0   0   0   1   1   0   0  ...   \n",
       "2           3   1   0   0   0   0   0   1   1   0  ...   \n",
       "3           4   1   1   1   1   1   1   1   1   1  ...   \n",
       "4           5   1   1   0   1   1   1   1   1   1  ...   \n",
       "...       ...  ..  ..  ..  ..  ..  ..  ..  ..  ..  ...   \n",
       "1995     1996   1   1   0   1   0   0   0   0   0  ...   \n",
       "1996     1997   1   1   0   0   0   0   0   0   0  ...   \n",
       "1997     1998   1   1   0   0   1   1   0   1   1  ...   \n",
       "1998     1999   1   1   1   1   1   1   1   1   1  ...   \n",
       "1999     2000   1   1   0   0   0   1   1   1   0  ...   \n",
       "\n",
       "      Global developmental delay/intellectual disability  \\\n",
       "0                                                   Yes    \n",
       "1                                                   Yes    \n",
       "2                                                   Yes    \n",
       "3                                                   Yes    \n",
       "4                                                   Yes    \n",
       "...                                                 ...    \n",
       "1995                                                Yes    \n",
       "1996                                                Yes    \n",
       "1997                                                Yes    \n",
       "1998                                                Yes    \n",
       "1999                                                Yes    \n",
       "\n",
       "      Social/Behavioural Issues Childhood Autism Rating Scale  \\\n",
       "0                           Yes                             1   \n",
       "1                           Yes                             2   \n",
       "2                           Yes                             4   \n",
       "3                           Yes                             2   \n",
       "4                           Yes                             1   \n",
       "...                         ...                           ...   \n",
       "1995                        Yes                             3   \n",
       "1996                        Yes                             4   \n",
       "1997                        Yes                             2   \n",
       "1998                        Yes                             2   \n",
       "1999                        Yes                             1   \n",
       "\n",
       "      Anxiety_disorder Sex       Ethnicity Jaundice Family_mem_with_ASD  \\\n",
       "0                  Yes   F  middle eastern      Yes                  No   \n",
       "1                  Yes   M  White European      Yes                  No   \n",
       "2                  Yes   M  Middle Eastern      Yes                  No   \n",
       "3                  Yes   M        Hispanic       No                  No   \n",
       "4                  Yes   F  White European       No                  No   \n",
       "...                ...  ..             ...      ...                 ...   \n",
       "1995               Yes   M  Middle Eastern      Yes                  No   \n",
       "1996               Yes   M  Middle Eastern      Yes                  No   \n",
       "1997               Yes   M  White European      Yes                  No   \n",
       "1998               Yes   M        PaciFica      Yes                  No   \n",
       "1999               Yes   M  White European      Yes                 Yes   \n",
       "\n",
       "        Who_completed_the_test ASD_traits  \n",
       "0                Family Member         No  \n",
       "1                Family Member        Yes  \n",
       "2                Family Member        Yes  \n",
       "3                Family Member        Yes  \n",
       "4                Family Member        Yes  \n",
       "...                        ...        ...  \n",
       "1995  Health Care Professional         No  \n",
       "1996  Health Care Professional         No  \n",
       "1997  Health Care Professional        Yes  \n",
       "1998  Health Care Professional        Yes  \n",
       "1999  Health Care Professional        Yes  \n",
       "\n",
       "[2000 rows x 28 columns]>"
      ]
     },
     "execution_count": 33,
     "metadata": {},
     "output_type": "execute_result"
    }
   ],
   "source": [
    "df.describe\n"
   ]
  },
  {
   "cell_type": "code",
   "execution_count": 34,
   "id": "15b323bd",
   "metadata": {},
   "outputs": [
    {
     "data": {
      "text/plain": [
       "count     2000\n",
       "unique      30\n",
       "top         36\n",
       "freq       599\n",
       "Name: Age_Months, dtype: object"
      ]
     },
     "execution_count": 34,
     "metadata": {},
     "output_type": "execute_result"
    }
   ],
   "source": [
    "df['Age_Months'].describe()\n"
   ]
  },
  {
   "cell_type": "code",
   "execution_count": 35,
   "id": "72f01827",
   "metadata": {},
   "outputs": [
    {
     "data": {
      "text/plain": [
       "36    599\n",
       "12    132\n",
       "30    125\n",
       "24    120\n",
       "33     83\n",
       "28     75\n",
       "26     69\n",
       "34     65\n",
       "32     62\n",
       "15     58\n",
       "23     56\n",
       "35     55\n",
       "22     54\n",
       "31     54\n",
       "25     50\n",
       "20     45\n",
       "27     45\n",
       "29     43\n",
       "19     40\n",
       "13     38\n",
       "18     33\n",
       "14     28\n",
       "17     25\n",
       "21     24\n",
       "16     17\n",
       "?       1\n",
       "0       1\n",
       "1       1\n",
       "40      1\n",
       "63      1\n",
       "Name: Age_Months, dtype: int64"
      ]
     },
     "execution_count": 35,
     "metadata": {},
     "output_type": "execute_result"
    }
   ],
   "source": [
    "df['Age_Months'].value_counts()"
   ]
  },
  {
   "cell_type": "code",
   "execution_count": null,
   "id": "2468af67",
   "metadata": {},
   "outputs": [],
   "source": []
  }
 ],
 "metadata": {
  "kernelspec": {
   "display_name": "Python 3 (ipykernel)",
   "language": "python",
   "name": "python3"
  },
  "language_info": {
   "codemirror_mode": {
    "name": "ipython",
    "version": 3
   },
   "file_extension": ".py",
   "mimetype": "text/x-python",
   "name": "python",
   "nbconvert_exporter": "python",
   "pygments_lexer": "ipython3",
   "version": "3.10.4"
  }
 },
 "nbformat": 4,
 "nbformat_minor": 5
}
